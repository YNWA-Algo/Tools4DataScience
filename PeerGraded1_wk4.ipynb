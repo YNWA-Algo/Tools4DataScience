{
  "nbformat": 4,
  "nbformat_minor": 0,
  "metadata": {
    "colab": {
      "name": "PeerGraded1.wk4.ipynb",
      "provenance": [],
      "authorship_tag": "ABX9TyOWkGstkPRlXCFSnE+dhLwV",
      "include_colab_link": true
    },
    "kernelspec": {
      "name": "python3",
      "display_name": "Python 3"
    },
    "language_info": {
      "name": "python"
    }
  },
  "cells": [
    {
      "cell_type": "markdown",
      "metadata": {
        "id": "view-in-github",
        "colab_type": "text"
      },
      "source": [
        "<a href=\"https://colab.research.google.com/github/YNWA-Algo/Tools4DataScience/blob/main/PeerGraded1_wk4.ipynb\" target=\"_parent\"><img src=\"https://colab.research.google.com/assets/colab-badge.svg\" alt=\"Open In Colab\"/></a>"
      ]
    },
    {
      "cell_type": "markdown",
      "source": [
        "#My Jupyter Notebook on IBM Watson Studio"
      ],
      "metadata": {
        "id": "N-zn1GbVr8ea"
      }
    },
    {
      "cell_type": "markdown",
      "source": [
        "**Isaiah Olateru**\n",
        "\n",
        "Chief Data Scientist\n"
      ],
      "metadata": {
        "id": "4mQgnguMsXJs"
      }
    },
    {
      "cell_type": "markdown",
      "source": [
        "*I am interested in datascience because I love data and I'm very curious*"
      ],
      "metadata": {
        "id": "rOnViC0Ksyzx"
      }
    },
    {
      "cell_type": "markdown",
      "source": [
        "### This code should display an output"
      ],
      "metadata": {
        "id": "JCx5XsK4tJd4"
      }
    },
    {
      "cell_type": "code",
      "source": [
        "1+1"
      ],
      "metadata": {
        "colab": {
          "base_uri": "https://localhost:8080/"
        },
        "id": "M7Ch9yaTtpfX",
        "outputId": "461f340b-fb3e-4559-ea38-8bbab88cb149"
      },
      "execution_count": 2,
      "outputs": [
        {
          "output_type": "execute_result",
          "data": {
            "text/plain": [
              "2"
            ]
          },
          "metadata": {},
          "execution_count": 2
        }
      ]
    },
    {
      "cell_type": "markdown",
      "source": [
        "~~My shopping cart what I already purchased~~\n",
        "\n",
        "1. Bread\n",
        "2. Beans\n",
        "3. Butter\n",
        "\n",
        "*   Wine\n",
        "*   Wishes\n",
        "\n",
        "[The BBC](https://https://www.bbc.com/)"
      ],
      "metadata": {
        "id": "ZOLPjhpvuKig"
      }
    },
    {
      "cell_type": "code",
      "source": [
        ""
      ],
      "metadata": {
        "id": "PAenEc6qvnC_"
      },
      "execution_count": null,
      "outputs": []
    }
  ]
}